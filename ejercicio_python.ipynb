{
 "cells": [
  {
   "cell_type": "markdown",
   "metadata": {},
   "source": [
    "# M4 - Tarea: Utilización de Python para recolectar y analizar datos.\n",
    "\n",
    "## 1. Creación de un Listener para escuchar tweets y su almacenamiento en un archivo csv.\n",
    "    \n",
    "Mediante la libreria tweety de Python, se ha creado un Listerner para escuchar twees en estreaming utilizando como palabra  clave de busqueda \"Trump\" para tweets en Inglés como idioma y además no se consideraran los retweets. De los tweets obtenidos se extraerá la información de los campos (text, created_at, country, user.created_at, user.name, user.screen_name) que serán almaenados en un archivo csv con los correspondientes headers. El listener ha estado escuchando tweets en 2 sesiones distintas pertenecientes al mismo día por lo que se han generado 2 archivos csv para los tweets recolectados."
   ]
  },
  {
   "cell_type": "code",
   "execution_count": null,
   "metadata": {
    "collapsed": true
   },
   "outputs": [],
   "source": [
    "from tweepy import Stream\n",
    "from tweepy import OAuthHandler\n",
    "from tweepy.streaming import StreamListener\n",
    "import time\n",
    "import csv\n",
    "import sys\n",
    "\n",
    "# Access keys\n",
    "ckey = 'NZdwnFSAxKb3AAeTthxtEzeu0'\n",
    "csecret = 'ifpQe3rJk3yPcSlMlkm0oAZs44XSc7SFFj8rIcTIrROYEJ1knj'\n",
    "atoken = '938485649333727232-Cgpk1Fkil6rDkRy56vhddaji7quQf5K'\n",
    "asecret = '8yFGXH1nEXryR8D2bCO20dspjS60IBaPUimKV5vowDBVW'\n",
    "\n",
    "\n",
    "class listener(StreamListener):\n",
    "\n",
    "    # Create a new file with that filename\n",
    "    csvFile = open('tweets.csv', 'w')\n",
    "\n",
    "    # Create a csv writer\n",
    "    csvWriter = csv.writer(csvFile)\n",
    "\n",
    "    # Write a single row with the headers of the columns\n",
    "    csvWriter.writerow(['text',\n",
    "                        'created_at',\n",
    "                        'country',\n",
    "                        'user.created_at',\n",
    "                        'user.name',\n",
    "                        'user.screen_name'])\n",
    "\n",
    "    def on_status(self, status):\n",
    "        # Open the csv file created previously\n",
    "        csvFile = open('tweetsF3.csv', 'a')\n",
    "\n",
    "        # Create a csv writer\n",
    "        csvWriter = csv.writer(csvFile)\n",
    "\n",
    "        # If the tweet is not in a retweet\n",
    "        if 'RT @' not in status.text:\n",
    "            # Try to\n",
    "            try:\n",
    "                # Write the tweet's information to the csv file\n",
    "                csvWriter.writerow([status.text,\n",
    "                                    status.created_at,\n",
    "                                    status.place.country,\n",
    "                                    status.user.created_at,\n",
    "                                    status.user.name,\n",
    "                                    status.user.screen_name])\n",
    "                # Close the csv file\n",
    "            except:\n",
    "                pass\n",
    "                # Close the csv file\n",
    "    csvFile.close()\n",
    "\n",
    "    def on_error(self, status):\n",
    "        print (status)\n",
    "\n",
    "auth = OAuthHandler(ckey, csecret)\n",
    "auth.set_access_token(atoken, asecret)\n",
    "twitterStream = Stream(auth, listener())\n",
    "twitterStream.filter(track=[\"Trump\"], languages=['en'])\n"
   ]
  },
  {
   "cell_type": "markdown",
   "metadata": {},
   "source": [
    "## 2. Creación de un DataFrame con los tweets almacenados.\n",
    "\n",
    "Lectura de los tweets almacenados en los archivos csv obtenidos tras la escucha y primera visualizacion:"
   ]
  },
  {
   "cell_type": "code",
   "execution_count": 323,
   "metadata": {},
   "outputs": [
    {
     "name": "stdout",
     "output_type": "stream",
     "text": [
      "                                                text           created_at  \\\n",
      "0  Oops @realDonaldTrump It truly has been a grea...  2017-12-21 05:43:04   \n",
      "1  #Tennessee @Tennessean \\r\\nWHAT A DUCK UP\\r\\nh...  2017-12-21 05:43:28   \n",
      "2  There are so many problems that were over look...  2017-12-21 05:43:37   \n",
      "3  Stop tweeting and work on #impeachment @RepMax...  2017-12-21 05:43:44   \n",
      "4  @BreitbartNews @USArealnews Cha Ching. 200,000...  2017-12-21 05:43:56   \n",
      "\n",
      "         country      user.created_at      user.name user.screen_name  \n",
      "0  United States  2009-03-10 05:00:16    Jim Trainor         Train816  \n",
      "1  United States  2010-11-16 01:47:02   Ken Holsclaw      KenHolsclaw  \n",
      "2  United States  2011-08-27 19:48:53     iris adams       irismadams  \n",
      "3  United States  2009-09-29 22:26:34  melanieknight   melaniepknight  \n",
      "4  United States  2016-12-17 02:35:22  markjrobinson         155thMed  \n"
     ]
    }
   ],
   "source": [
    "# importing libraries\n",
    "import pandas as pd\n",
    "import numpy as np\n",
    "import matplotlib.pyplot as plt\n",
    "import csv\n",
    "\n",
    "# read csv files tweets\n",
    "dfA = pd.read_csv(\"./tweetsF3.csv\",\n",
    "                  delimiter=',', quotechar='\"', header=0, encoding='utf-8')\n",
    "dfB = pd.read_csv(\"./tweetsF4.csv\",\n",
    "                  delimiter=',', quotechar='\"', header=0, encoding='utf-8')\n",
    "\n",
    "# merge dataframes\n",
    "df = pd.concat([dfA, dfB])\n",
    "\n",
    "print(df.head())\n"
   ]
  },
  {
   "cell_type": "markdown",
   "metadata": {},
   "source": [
    "Veamos el número de tweets del dataframe:"
   ]
  },
  {
   "cell_type": "code",
   "execution_count": 324,
   "metadata": {},
   "outputs": [
    {
     "data": {
      "text/plain": [
       "5137"
      ]
     },
     "execution_count": 324,
     "metadata": {},
     "output_type": "execute_result"
    }
   ],
   "source": [
    "# number of tweets\n",
    "len(df.index)\n"
   ]
  },
  {
   "cell_type": "markdown",
   "metadata": {},
   "source": [
    "## 3. Operaciones de limpieza para el campo text del DataFrame\n",
    "\n",
    "A continuación se relalizan operaciones de limpieza con el fin de eliminar caracteres especiales, saltos de linea, links y convertir texto a minúsculas del campo text para los tweets recolectados."
   ]
  },
  {
   "cell_type": "code",
   "execution_count": 325,
   "metadata": {},
   "outputs": [
    {
     "name": "stdout",
     "output_type": "stream",
     "text": [
      "0     oops  it truly has been a great seven year run...\n",
      "1                             tennessee  what a duck up\n",
      "2     there are so many problems that were over look...\n",
      "3            stop tweeting and work on impeachment     \n",
      "4       cha ching 200000 bonuses and 200000 more tru...\n",
      "5     has trump persuaded orrin hatch to block mitt ...\n",
      "6                                   trump needs to pray\n",
      "7     could only happen in america or north korea ma...\n",
      "8          nikki resign now before its too late  bef...\n",
      "9      buying trumps cheap azz made in china suits a...\n",
      "10          get them all especially the ho pimp hilary \n",
      "11     as repulsive as i found pence equally fascina...\n",
      "12                           i hate straight white men \n",
      "13    without new laws or walls trump presses the br...\n",
      "14       trump could stand to lose a few pounds hmmmmm \n",
      "15    i feel bad for him he thinks he has a followin...\n",
      "16                     start looking at trumps mob ties\n",
      "17               and votes trump money rightmoneytalks \n",
      "18                                trump supporters know\n",
      "19     its not because shes a womanyou can never tru...\n",
      "Name: text, dtype: object\n",
      "2047                             trumps an orange bitch  \n",
      "2048       anything to discredit hillary while you pum...\n",
      "2049     year one list 81 major trump achievements 11 ...\n",
      "2050    can somebody ask me why trumps not never made ...\n",
      "2051                                        a little bit \n",
      "2052               this is exactly why i voted for trump \n",
      "2053        he is in the top 5 best potus trump is wor...\n",
      "2054    i hope in 2018 hiphop publications talk more a...\n",
      "2055     so glad she lost but so sad that trump was th...\n",
      "2056                                  trump 1000 american\n",
      "2057         democrats go for broke after losing to trump\n",
      "2058               the word of the week is  suckupocracy \n",
      "2059                                               boom  \n",
      "2060     has cnn reported on trumps visit to walter re...\n",
      "2061    they dont even try to hide it anymore jealous ...\n",
      "2062    will be interesting to watch the new classific...\n",
      "2063     has the united states totally lost its mindth...\n",
      "2064    donald trump worst president since william g h...\n",
      "2065    ive never seen a president do this and this is...\n",
      "2066    listen up all you murdoch minions fact check t...\n",
      "Name: text, dtype: object\n"
     ]
    }
   ],
   "source": [
    "# Removes the character specified\n",
    "df['text'] = df['text'].replace(r'&amp', '', regex=True)\n",
    "# remove special characters\n",
    "df['text'] = df['text'].replace(\n",
    "    r\"(@[A-Za-z0-9]+)|([^0-9A-Za-z \\t])|(\\w+:\\/\\/\\S+)\", '', regex=True)\n",
    "# remove link\n",
    "df['text'] = df['text'].replace(\n",
    "    r'https?:\\/\\/.*\\/[a-zA-Z0-9]*', '', regex=True)\n",
    "# convert text to lower case\n",
    "df['text'] = df['text'].str.lower()\n",
    "\n",
    "print(df.text.head(20))\n",
    "print(df.text.tail(20))\n"
   ]
  },
  {
   "cell_type": "markdown",
   "metadata": {},
   "source": [
    "## 4. Creación de columnas adicionales para el DataFrame.\n",
    "\n",
    "A continuación se añaden al dataframe las nuevas columnas que continenen la fecha, la hora, número de palabras del tweet y número de caracteres del tweet."
   ]
  },
  {
   "cell_type": "code",
   "execution_count": 326,
   "metadata": {
    "collapsed": true
   },
   "outputs": [],
   "source": [
    "# date\n",
    "df['date'] = df['created_at'].str.extract('([^\\s]*)', expand=True)\n",
    "# time\n",
    "df['time'] = df['created_at'].str.extract(\n",
    "    '\\d+-\\d+-\\d+\\s*([^\\:]*)', expand=True)\n",
    "# num words\n",
    "df['num_words'] = df['text'].apply(lambda x: len(str(x).split(' ')))\n",
    "# num characters\n",
    "df['num_characters'] = df['text'].str.len()\n"
   ]
  },
  {
   "cell_type": "markdown",
   "metadata": {},
   "source": [
    "## 5. Creación de un nuevo DataFrame con las columnas relevantes.\n",
    "\n",
    "Por último se crea un nuevo dataframe a partir del dataframe anterior con las columnas relevantes y además se renombran las columnas. "
   ]
  },
  {
   "cell_type": "code",
   "execution_count": 327,
   "metadata": {},
   "outputs": [
    {
     "name": "stdout",
     "output_type": "stream",
     "text": [
      "             user       location        date time  num_characters  num_words  \\\n",
      "0        Train816  United States  2017-12-21   05              70         16   \n",
      "1     KenHolsclaw  United States  2017-12-21   05              25          6   \n",
      "2      irismadams  United States  2017-12-21   05             119         26   \n",
      "3  melaniepknight  United States  2017-12-21   05              42         11   \n",
      "4        155thMed  United States  2017-12-21   05              55         11   \n",
      "\n",
      "                                                text  \n",
      "0  oops  it truly has been a great seven year run...  \n",
      "1                          tennessee  what a duck up  \n",
      "2  there are so many problems that were over look...  \n",
      "3         stop tweeting and work on impeachment       \n",
      "4    cha ching 200000 bonuses and 200000 more tru...  \n"
     ]
    }
   ],
   "source": [
    "# create a new data frame with the relevant columns\n",
    "df1 = df[['user.screen_name', 'country', 'date',\n",
    "          'time', 'num_characters', 'num_words', 'text']]\n",
    "# rename columns\n",
    "df1.columns = ['user', 'location', 'date',\n",
    "               'time', 'num_characters', 'num_words', 'text']\n",
    "\n",
    "print(df1.head())\n"
   ]
  },
  {
   "cell_type": "markdown",
   "metadata": {},
   "source": [
    "## 6. Agregación del DataFrame por el campo hora y número de tweets por hora.\n",
    "\n",
    "Utilizando la función groupby se muestra el numero de tweets recolectados para cada hora durante el tiempo que se estuvo recolectando tweets."
   ]
  },
  {
   "cell_type": "code",
   "execution_count": 328,
   "metadata": {},
   "outputs": [
    {
     "data": {
      "text/plain": [
       "time\n",
       "05     58\n",
       "06    196\n",
       "07    125\n",
       "08    110\n",
       "09    116\n",
       "10    112\n",
       "11    198\n",
       "12    307\n",
       "13    426\n",
       "14    398\n",
       "15    430\n",
       "16    436\n",
       "17    542\n",
       "18    492\n",
       "19    527\n",
       "20    406\n",
       "21    258\n",
       "Name: time, dtype: int64"
      ]
     },
     "execution_count": 328,
     "metadata": {},
     "output_type": "execute_result"
    }
   ],
   "source": [
    "# group data frame by time and number of tweets per each hour\n",
    "groupby_time = df1['time'].groupby(df1['time']).count()\n",
    "groupby_time\n"
   ]
  },
  {
   "cell_type": "markdown",
   "metadata": {},
   "source": [
    "## 7. Análisis estadístico de los tweets obtenidos.\n",
    "\n",
    "### 7.1. Distribución de los tweets obtenidos según la hora del día."
   ]
  },
  {
   "cell_type": "code",
   "execution_count": 384,
   "metadata": {},
   "outputs": [
    {
     "data": {
      "image/png": "[encoded data removed]",
      "text/plain": [
       "<matplotlib.figure.Figure at 0x14019828>"
      ]
     },
     "metadata": {},
     "output_type": "display_data"
    }
   ],
   "source": [
    "# tweets per hours\n",
    "plt.rcParams['figure.figsize'] = (14, 8)\n",
    "\n",
    "flow_tweets = groupby_time.plot(kind='area', color='green')\n",
    "flow_tweets.set_xlabel('Hour', fontsize=15)\n",
    "flow_tweets.set_ylabel('Tweets', fontsize=15)\n",
    "flow_tweets.set_title('Tweets Flow', fontsize=25)\n",
    "show()\n"
   ]
  },
  {
   "cell_type": "markdown",
   "metadata": {},
   "source": [
    "Se observa como a partir de las 11 de la mañana el número de tweets empieza a aumentar considerablemente alcanzando el máximo valor a las 17 horas de la tarde. Durante las 17 horas y las 19 horas es cuando más tweets se han recolectado, empezando a decender el número a partir de las 19 horas."
   ]
  },
  {
   "cell_type": "markdown",
   "metadata": {},
   "source": [
    "### 7.2. Usuarios con mayor número de tweets.\n",
    "\n",
    "Para obetener los usuraios con mayor número de tweets, primero se obtendrán los valores descriptivos del campo user:"
   ]
  },
  {
   "cell_type": "code",
   "execution_count": 365,
   "metadata": {},
   "outputs": [
    {
     "data": {
      "text/plain": [
       "count    3687.000000\n",
       "mean        1.393274\n",
       "std         1.592487\n",
       "min         1.000000\n",
       "25%         1.000000\n",
       "50%         1.000000\n",
       "75%         1.000000\n",
       "max        62.000000\n",
       "Name: user, dtype: float64"
      ]
     },
     "execution_count": 365,
     "metadata": {},
     "output_type": "execute_result"
    }
   ],
   "source": [
    "# group by user\n",
    "groupby_user = df1['user'].groupby(df1['user']).count()\n",
    "groupby_user.describe()\n"
   ]
  },
  {
   "cell_type": "markdown",
   "metadata": {},
   "source": [
    "Se observa que el usuario que tiene un mayor número de tweets corresponde a un valor de 62 tweets, siendo la media de tweets por usuario algo mayor de 1, por lo que se consideran mostrar los usuarios que tienen más de 5 tweets:"
   ]
  },
  {
   "cell_type": "code",
   "execution_count": 425,
   "metadata": {},
   "outputs": [
    {
     "data": {
      "image/png": "[encoded data removed]",
      "text/plain": [
       "<matplotlib.figure.Figure at 0x1283c240>"
      ]
     },
     "metadata": {},
     "output_type": "display_data"
    }
   ],
   "source": [
    "# top users\n",
    "top_users = groupby_user[groupby_user > 5]\n",
    "\n",
    "plt.rcParams['figure.figsize'] = (14, 8)\n",
    "\n",
    "tweets_user = top_users.plot(kind='bar')\n",
    "tweets_user.set_xlabel('User', fontsize=15)\n",
    "tweets_user.set_ylabel('Tweets', fontsize=15)\n",
    "tweets_user.set_title('Top Users', fontsize=25)\n",
    "show()\n"
   ]
  },
  {
   "cell_type": "markdown",
   "metadata": {},
   "source": [
    "### 7.3. Palabras que aparecen con mayor frecuencia en los tweets.\n",
    "\n",
    "A continuación se muestran las 50 palabras más frecuentes en los tweets obtenidos para el idioma inglés."
   ]
  },
  {
   "cell_type": "code",
   "execution_count": 367,
   "metadata": {},
   "outputs": [
    {
     "data": {
      "image/png": "[encoded data removed]",
      "text/plain": [
       "<matplotlib.figure.Figure at 0x28c025f8>"
      ]
     },
     "metadata": {},
     "output_type": "display_data"
    },
    {
     "name": "stdout",
     "output_type": "stream",
     "text": [
      "None\n"
     ]
    }
   ],
   "source": [
    "import nltk\n",
    "from nltk.corpus import stopwords\n",
    "from nltk import FreqDist\n",
    "\n",
    "# get english stopwords\n",
    "stop = stopwords.words('english')\n",
    "texts = df1.text\n",
    "\n",
    "tokens = []\n",
    "\n",
    "# strip words of punctuation marks\n",
    "for text in texts.values:\n",
    "    tokens.extend([word.lower().strip(':,.\"-') for word in text.split()])\n",
    "\n",
    "filtered_tokens = [word.decode('utf-8')\n",
    "                   for word in tokens if not word.decode('utf-8') in stop]\n",
    "\n",
    "freq_dist = nltk.FreqDist(filtered_tokens)\n",
    "plt.subplots_adjust(wspace=0.6, hspace=0.6, left=0.1,\n",
    "                    bottom=0.35, right=0.96, top=0.96)\n",
    "print freq_dist.plot(50)\n"
   ]
  },
  {
   "cell_type": "markdown",
   "metadata": {},
   "source": [
    "Podemos observar como la palabra \"tax\" aparece entre las primeras con mayor frecuencia en los tweets, lo que tiene sentido debido a la reciente reforma fiscal llevada a cabo en Estados Unidos."
   ]
  },
  {
   "cell_type": "markdown",
   "metadata": {
    "collapsed": true
   },
   "source": [
    "### 7.4. Distribución de los tweets obtenidos por localización.\n",
    "\n",
    "A continuación se muestra un análisis de la procedencia de los tweets obtenidos.\n",
    "\n",
    "Agrupamos los tweets por localización y mostramos las localizaciones que aparecen con mayor frecuencia en orden descendente:"
   ]
  },
  {
   "cell_type": "code",
   "execution_count": 368,
   "metadata": {},
   "outputs": [
    {
     "name": "stdout",
     "output_type": "stream",
     "text": [
      "location\n",
      "United States     4300\n",
      "United Kingdom     224\n",
      "Canada             219\n",
      "Ireland             47\n",
      "Australia           34\n",
      "Name: location, dtype: int64\n"
     ]
    }
   ],
   "source": [
    "# tweets by location\n",
    "groupby_location = df1['location'].groupby(\n",
    "    df1['location']).count().sort_values(ascending=False)\n",
    "\n",
    "print(groupby_location.head())\n"
   ]
  },
  {
   "cell_type": "markdown",
   "metadata": {},
   "source": [
    "Se observa como era de esperar que la mayor parte de los tweets obtenidos proceden de Estados Unidos y a continuación le siguen los principales países de lengua inglesa. Veamos la disdribución de los tweets obtenidos fuera de Estados Unidos para los localizaciones con mayor número de tweets:"
   ]
  },
  {
   "cell_type": "code",
   "execution_count": 372,
   "metadata": {},
   "outputs": [
    {
     "data": {
      "image/png": "[encoded data removed]",
      "text/plain": [
       "<matplotlib.figure.Figure at 0xcb6ca58>"
      ]
     },
     "metadata": {},
     "output_type": "display_data"
    }
   ],
   "source": [
    "# tweets posted outside of USA\n",
    "non_usa = groupby_location[groupby_location.index != \"United States\"]\n",
    "top_nonusa = non_usa[non_usa > 5]\n",
    "\n",
    "plt.rcParams['figure.figsize'] = (14, 8)\n",
    "\n",
    "top_nonusa_tweets = top_nonusa.plot(kind='bar', color='orange')\n",
    "top_nonusa_tweets.set_xlabel('Location', fontsize=15)\n",
    "top_nonusa_tweets.set_ylabel('Tweets', fontsize=20)\n",
    "top_nonusa_tweets.set_title('Top Tweets Locations Outside of USA', fontsize=25)\n",
    "plt.show()\n"
   ]
  },
  {
   "cell_type": "markdown",
   "metadata": {},
   "source": [
    "### 7.5. Análisis descriptivo del número de palabras presentes en los tweets.\n",
    "\n",
    "A continuación se obtendrán los principales valores estadísticos para el campo número de palabras:"
   ]
  },
  {
   "cell_type": "code",
   "execution_count": 339,
   "metadata": {},
   "outputs": [
    {
     "data": {
      "text/plain": [
       "count    5137.000000\n",
       "mean       12.093634\n",
       "std         5.947623\n",
       "min         1.000000\n",
       "25%         7.000000\n",
       "50%        12.000000\n",
       "75%        16.000000\n",
       "max        42.000000\n",
       "Name: num_words, dtype: float64"
      ]
     },
     "execution_count": 339,
     "metadata": {},
     "output_type": "execute_result"
    }
   ],
   "source": [
    "# describe num_words field\n",
    "df1.num_words.describe()\n"
   ]
  },
  {
   "cell_type": "markdown",
   "metadata": {},
   "source": [
    "Vemos como el número de palabras en los tweets oscila en un intervalo que va desde 1 palabra hasta el máximo obtenido de 42 palabras, siendo la media de palabras en los tweet de 12. Veamos los una distribución de los tweets agrupados por el número de palabras que contienen:"
   ]
  },
  {
   "cell_type": "code",
   "execution_count": 380,
   "metadata": {},
   "outputs": [
    {
     "data": {
      "image/png": "[encoded data removed]",
      "text/plain": [
       "<matplotlib.figure.Figure at 0xdcf7be0>"
      ]
     },
     "metadata": {},
     "output_type": "display_data"
    }
   ],
   "source": [
    "# group by number of words\n",
    "groupby_num_words = df1['num_words'].groupby(df1['num_words']).count()\n",
    "\n",
    "plt.rcParams['figure.figsize'] = (14, 8)\n",
    "\n",
    "num_words_tweets = groupby_num_words.plot(kind='barh')\n",
    "num_words_tweets.set_xlabel('Tweets', fontsize=15)\n",
    "num_words_tweets.set_ylabel('Number of words', fontsize=15)\n",
    "num_words_tweets.set_title('Number of words in a tweet', fontsize=25)\n",
    "show()\n"
   ]
  },
  {
   "cell_type": "markdown",
   "metadata": {},
   "source": [
    "### 7.6. Análisis descriptivo del número de caracteres presentes en los tweets.\n",
    "\n",
    "A continuación se obtendrán los principales valores estadísticos para el campo número de caracteres:"
   ]
  },
  {
   "cell_type": "code",
   "execution_count": 346,
   "metadata": {},
   "outputs": [
    {
     "data": {
      "text/plain": [
       "count    5137.000000\n",
       "mean       60.316722\n",
       "std        31.803046\n",
       "min         0.000000\n",
       "25%        33.000000\n",
       "50%        59.000000\n",
       "75%        85.000000\n",
       "max       140.000000\n",
       "Name: num_characters, dtype: float64"
      ]
     },
     "execution_count": 346,
     "metadata": {},
     "output_type": "execute_result"
    }
   ],
   "source": [
    "df1.num_characters.describe()"
   ]
  },
  {
   "cell_type": "markdown",
   "metadata": {
    "collapsed": true
   },
   "source": [
    "Observamos como el número de caracteres medio en un tweet es de 60 siendo el máximo 140 caracteres. Veamos la distribución del número de caracteres en los tweets según la localización:"
   ]
  },
  {
   "cell_type": "code",
   "execution_count": 443,
   "metadata": {},
   "outputs": [
    {
     "data": {
      "text/html": [
       "<div>\n",
       "<style>\n",
       "    .dataframe thead tr:only-child th {\n",
       "        text-align: right;\n",
       "    }\n",
       "\n",
       "    .dataframe thead th {\n",
       "        text-align: left;\n",
       "    }\n",
       "\n",
       "    .dataframe tbody tr th {\n",
       "        vertical-align: top;\n",
       "    }\n",
       "</style>\n",
       "<table border=\"1\" class=\"dataframe\">\n",
       "  <thead>\n",
       "    <tr style=\"text-align: right;\">\n",
       "      <th></th>\n",
       "      <th>count</th>\n",
       "      <th>max</th>\n",
       "      <th>mean</th>\n",
       "      <th>min</th>\n",
       "    </tr>\n",
       "    <tr>\n",
       "      <th>location</th>\n",
       "      <th></th>\n",
       "      <th></th>\n",
       "      <th></th>\n",
       "      <th></th>\n",
       "    </tr>\n",
       "  </thead>\n",
       "  <tbody>\n",
       "    <tr>\n",
       "      <th>Argentina</th>\n",
       "      <td>3.0</td>\n",
       "      <td>104.0</td>\n",
       "      <td>56.000000</td>\n",
       "      <td>5.0</td>\n",
       "    </tr>\n",
       "    <tr>\n",
       "      <th>Armenia</th>\n",
       "      <td>2.0</td>\n",
       "      <td>95.0</td>\n",
       "      <td>82.500000</td>\n",
       "      <td>70.0</td>\n",
       "    </tr>\n",
       "    <tr>\n",
       "      <th>Australia</th>\n",
       "      <td>34.0</td>\n",
       "      <td>131.0</td>\n",
       "      <td>68.588235</td>\n",
       "      <td>8.0</td>\n",
       "    </tr>\n",
       "    <tr>\n",
       "      <th>Austria</th>\n",
       "      <td>2.0</td>\n",
       "      <td>87.0</td>\n",
       "      <td>74.500000</td>\n",
       "      <td>62.0</td>\n",
       "    </tr>\n",
       "    <tr>\n",
       "      <th>Bahamas</th>\n",
       "      <td>2.0</td>\n",
       "      <td>71.0</td>\n",
       "      <td>63.500000</td>\n",
       "      <td>56.0</td>\n",
       "    </tr>\n",
       "    <tr>\n",
       "      <th>Bangladesh</th>\n",
       "      <td>1.0</td>\n",
       "      <td>80.0</td>\n",
       "      <td>80.000000</td>\n",
       "      <td>80.0</td>\n",
       "    </tr>\n",
       "    <tr>\n",
       "      <th>Barbados</th>\n",
       "      <td>1.0</td>\n",
       "      <td>24.0</td>\n",
       "      <td>24.000000</td>\n",
       "      <td>24.0</td>\n",
       "    </tr>\n",
       "    <tr>\n",
       "      <th>Belgique</th>\n",
       "      <td>1.0</td>\n",
       "      <td>20.0</td>\n",
       "      <td>20.000000</td>\n",
       "      <td>20.0</td>\n",
       "    </tr>\n",
       "    <tr>\n",
       "      <th>Belgium</th>\n",
       "      <td>1.0</td>\n",
       "      <td>61.0</td>\n",
       "      <td>61.000000</td>\n",
       "      <td>61.0</td>\n",
       "    </tr>\n",
       "    <tr>\n",
       "      <th>Bermuda</th>\n",
       "      <td>2.0</td>\n",
       "      <td>33.0</td>\n",
       "      <td>22.500000</td>\n",
       "      <td>12.0</td>\n",
       "    </tr>\n",
       "    <tr>\n",
       "      <th>Brasil</th>\n",
       "      <td>2.0</td>\n",
       "      <td>101.0</td>\n",
       "      <td>58.000000</td>\n",
       "      <td>15.0</td>\n",
       "    </tr>\n",
       "    <tr>\n",
       "      <th>Canada</th>\n",
       "      <td>219.0</td>\n",
       "      <td>126.0</td>\n",
       "      <td>49.155251</td>\n",
       "      <td>7.0</td>\n",
       "    </tr>\n",
       "    <tr>\n",
       "      <th>Colombia</th>\n",
       "      <td>3.0</td>\n",
       "      <td>55.0</td>\n",
       "      <td>50.666667</td>\n",
       "      <td>46.0</td>\n",
       "    </tr>\n",
       "    <tr>\n",
       "      <th>Costa Rica</th>\n",
       "      <td>1.0</td>\n",
       "      <td>71.0</td>\n",
       "      <td>71.000000</td>\n",
       "      <td>71.0</td>\n",
       "    </tr>\n",
       "    <tr>\n",
       "      <th>Cyprus</th>\n",
       "      <td>1.0</td>\n",
       "      <td>16.0</td>\n",
       "      <td>16.000000</td>\n",
       "      <td>16.0</td>\n",
       "    </tr>\n",
       "    <tr>\n",
       "      <th>Czech Republic</th>\n",
       "      <td>1.0</td>\n",
       "      <td>67.0</td>\n",
       "      <td>67.000000</td>\n",
       "      <td>67.0</td>\n",
       "    </tr>\n",
       "    <tr>\n",
       "      <th>Danmark</th>\n",
       "      <td>1.0</td>\n",
       "      <td>54.0</td>\n",
       "      <td>54.000000</td>\n",
       "      <td>54.0</td>\n",
       "    </tr>\n",
       "    <tr>\n",
       "      <th>Denmark</th>\n",
       "      <td>5.0</td>\n",
       "      <td>74.0</td>\n",
       "      <td>47.200000</td>\n",
       "      <td>29.0</td>\n",
       "    </tr>\n",
       "    <tr>\n",
       "      <th>Deutschland</th>\n",
       "      <td>1.0</td>\n",
       "      <td>96.0</td>\n",
       "      <td>96.000000</td>\n",
       "      <td>96.0</td>\n",
       "    </tr>\n",
       "    <tr>\n",
       "      <th>Egypt</th>\n",
       "      <td>3.0</td>\n",
       "      <td>90.0</td>\n",
       "      <td>80.666667</td>\n",
       "      <td>68.0</td>\n",
       "    </tr>\n",
       "    <tr>\n",
       "      <th>Estados Unidos</th>\n",
       "      <td>3.0</td>\n",
       "      <td>100.0</td>\n",
       "      <td>76.000000</td>\n",
       "      <td>33.0</td>\n",
       "    </tr>\n",
       "    <tr>\n",
       "      <th>Etats-Unis</th>\n",
       "      <td>3.0</td>\n",
       "      <td>103.0</td>\n",
       "      <td>73.333333</td>\n",
       "      <td>51.0</td>\n",
       "    </tr>\n",
       "    <tr>\n",
       "      <th>France</th>\n",
       "      <td>10.0</td>\n",
       "      <td>102.0</td>\n",
       "      <td>60.500000</td>\n",
       "      <td>24.0</td>\n",
       "    </tr>\n",
       "    <tr>\n",
       "      <th>Germany</th>\n",
       "      <td>7.0</td>\n",
       "      <td>94.0</td>\n",
       "      <td>67.428571</td>\n",
       "      <td>37.0</td>\n",
       "    </tr>\n",
       "    <tr>\n",
       "      <th>Ghana</th>\n",
       "      <td>1.0</td>\n",
       "      <td>67.0</td>\n",
       "      <td>67.000000</td>\n",
       "      <td>67.0</td>\n",
       "    </tr>\n",
       "    <tr>\n",
       "      <th>Hashemite Kingdom of Jordan</th>\n",
       "      <td>2.0</td>\n",
       "      <td>45.0</td>\n",
       "      <td>36.000000</td>\n",
       "      <td>27.0</td>\n",
       "    </tr>\n",
       "    <tr>\n",
       "      <th>Hong Kong</th>\n",
       "      <td>1.0</td>\n",
       "      <td>14.0</td>\n",
       "      <td>14.000000</td>\n",
       "      <td>14.0</td>\n",
       "    </tr>\n",
       "    <tr>\n",
       "      <th>India</th>\n",
       "      <td>33.0</td>\n",
       "      <td>114.0</td>\n",
       "      <td>68.484848</td>\n",
       "      <td>20.0</td>\n",
       "    </tr>\n",
       "    <tr>\n",
       "      <th>Indonesia</th>\n",
       "      <td>8.0</td>\n",
       "      <td>124.0</td>\n",
       "      <td>60.375000</td>\n",
       "      <td>12.0</td>\n",
       "    </tr>\n",
       "    <tr>\n",
       "      <th>Ireland</th>\n",
       "      <td>47.0</td>\n",
       "      <td>118.0</td>\n",
       "      <td>54.787234</td>\n",
       "      <td>9.0</td>\n",
       "    </tr>\n",
       "    <tr>\n",
       "      <th>...</th>\n",
       "      <td>...</td>\n",
       "      <td>...</td>\n",
       "      <td>...</td>\n",
       "      <td>...</td>\n",
       "    </tr>\n",
       "    <tr>\n",
       "      <th>Portugal</th>\n",
       "      <td>2.0</td>\n",
       "      <td>63.0</td>\n",
       "      <td>40.500000</td>\n",
       "      <td>18.0</td>\n",
       "    </tr>\n",
       "    <tr>\n",
       "      <th>Qatar</th>\n",
       "      <td>6.0</td>\n",
       "      <td>52.0</td>\n",
       "      <td>30.666667</td>\n",
       "      <td>8.0</td>\n",
       "    </tr>\n",
       "    <tr>\n",
       "      <th>Reino Unido</th>\n",
       "      <td>2.0</td>\n",
       "      <td>107.0</td>\n",
       "      <td>63.000000</td>\n",
       "      <td>19.0</td>\n",
       "    </tr>\n",
       "    <tr>\n",
       "      <th>Republic of Korea</th>\n",
       "      <td>2.0</td>\n",
       "      <td>107.0</td>\n",
       "      <td>56.500000</td>\n",
       "      <td>6.0</td>\n",
       "    </tr>\n",
       "    <tr>\n",
       "      <th>Republic of Mozambique</th>\n",
       "      <td>1.0</td>\n",
       "      <td>101.0</td>\n",
       "      <td>101.000000</td>\n",
       "      <td>101.0</td>\n",
       "    </tr>\n",
       "    <tr>\n",
       "      <th>Republic of Serbia</th>\n",
       "      <td>1.0</td>\n",
       "      <td>47.0</td>\n",
       "      <td>47.000000</td>\n",
       "      <td>47.0</td>\n",
       "    </tr>\n",
       "    <tr>\n",
       "      <th>Republic of Slovenia</th>\n",
       "      <td>1.0</td>\n",
       "      <td>34.0</td>\n",
       "      <td>34.000000</td>\n",
       "      <td>34.0</td>\n",
       "    </tr>\n",
       "    <tr>\n",
       "      <th>Republic of the Philippines</th>\n",
       "      <td>8.0</td>\n",
       "      <td>88.0</td>\n",
       "      <td>56.250000</td>\n",
       "      <td>9.0</td>\n",
       "    </tr>\n",
       "    <tr>\n",
       "      <th>Rwanda</th>\n",
       "      <td>1.0</td>\n",
       "      <td>61.0</td>\n",
       "      <td>61.000000</td>\n",
       "      <td>61.0</td>\n",
       "    </tr>\n",
       "    <tr>\n",
       "      <th>Seychelles</th>\n",
       "      <td>1.0</td>\n",
       "      <td>34.0</td>\n",
       "      <td>34.000000</td>\n",
       "      <td>34.0</td>\n",
       "    </tr>\n",
       "    <tr>\n",
       "      <th>Singapore</th>\n",
       "      <td>2.0</td>\n",
       "      <td>81.0</td>\n",
       "      <td>79.500000</td>\n",
       "      <td>78.0</td>\n",
       "    </tr>\n",
       "    <tr>\n",
       "      <th>Singapur</th>\n",
       "      <td>1.0</td>\n",
       "      <td>19.0</td>\n",
       "      <td>19.000000</td>\n",
       "      <td>19.0</td>\n",
       "    </tr>\n",
       "    <tr>\n",
       "      <th>South Africa</th>\n",
       "      <td>14.0</td>\n",
       "      <td>132.0</td>\n",
       "      <td>61.071429</td>\n",
       "      <td>8.0</td>\n",
       "    </tr>\n",
       "    <tr>\n",
       "      <th>Spain</th>\n",
       "      <td>6.0</td>\n",
       "      <td>71.0</td>\n",
       "      <td>46.500000</td>\n",
       "      <td>10.0</td>\n",
       "    </tr>\n",
       "    <tr>\n",
       "      <th>Sri Lanka</th>\n",
       "      <td>1.0</td>\n",
       "      <td>68.0</td>\n",
       "      <td>68.000000</td>\n",
       "      <td>68.0</td>\n",
       "    </tr>\n",
       "    <tr>\n",
       "      <th>Sverige</th>\n",
       "      <td>1.0</td>\n",
       "      <td>25.0</td>\n",
       "      <td>25.000000</td>\n",
       "      <td>25.0</td>\n",
       "    </tr>\n",
       "    <tr>\n",
       "      <th>Sweden</th>\n",
       "      <td>1.0</td>\n",
       "      <td>15.0</td>\n",
       "      <td>15.000000</td>\n",
       "      <td>15.0</td>\n",
       "    </tr>\n",
       "    <tr>\n",
       "      <th>Switzerland</th>\n",
       "      <td>7.0</td>\n",
       "      <td>109.0</td>\n",
       "      <td>64.285714</td>\n",
       "      <td>45.0</td>\n",
       "    </tr>\n",
       "    <tr>\n",
       "      <th>Tanzania</th>\n",
       "      <td>1.0</td>\n",
       "      <td>8.0</td>\n",
       "      <td>8.000000</td>\n",
       "      <td>8.0</td>\n",
       "    </tr>\n",
       "    <tr>\n",
       "      <th>Thailand</th>\n",
       "      <td>3.0</td>\n",
       "      <td>97.0</td>\n",
       "      <td>80.333333</td>\n",
       "      <td>53.0</td>\n",
       "    </tr>\n",
       "    <tr>\n",
       "      <th>The Netherlands</th>\n",
       "      <td>6.0</td>\n",
       "      <td>80.0</td>\n",
       "      <td>51.500000</td>\n",
       "      <td>35.0</td>\n",
       "    </tr>\n",
       "    <tr>\n",
       "      <th>Trinidad and Tobago</th>\n",
       "      <td>1.0</td>\n",
       "      <td>39.0</td>\n",
       "      <td>39.000000</td>\n",
       "      <td>39.0</td>\n",
       "    </tr>\n",
       "    <tr>\n",
       "      <th>Turkey</th>\n",
       "      <td>1.0</td>\n",
       "      <td>24.0</td>\n",
       "      <td>24.000000</td>\n",
       "      <td>24.0</td>\n",
       "    </tr>\n",
       "    <tr>\n",
       "      <th>Uganda</th>\n",
       "      <td>1.0</td>\n",
       "      <td>47.0</td>\n",
       "      <td>47.000000</td>\n",
       "      <td>47.0</td>\n",
       "    </tr>\n",
       "    <tr>\n",
       "      <th>Ukraine</th>\n",
       "      <td>3.0</td>\n",
       "      <td>76.0</td>\n",
       "      <td>62.000000</td>\n",
       "      <td>53.0</td>\n",
       "    </tr>\n",
       "    <tr>\n",
       "      <th>United Arab Emirates</th>\n",
       "      <td>4.0</td>\n",
       "      <td>89.0</td>\n",
       "      <td>58.750000</td>\n",
       "      <td>24.0</td>\n",
       "    </tr>\n",
       "    <tr>\n",
       "      <th>United Kingdom</th>\n",
       "      <td>224.0</td>\n",
       "      <td>132.0</td>\n",
       "      <td>64.281250</td>\n",
       "      <td>5.0</td>\n",
       "    </tr>\n",
       "    <tr>\n",
       "      <th>United States</th>\n",
       "      <td>4300.0</td>\n",
       "      <td>140.0</td>\n",
       "      <td>60.733488</td>\n",
       "      <td>0.0</td>\n",
       "    </tr>\n",
       "    <tr>\n",
       "      <th>Vereinigte Staaten</th>\n",
       "      <td>1.0</td>\n",
       "      <td>96.0</td>\n",
       "      <td>96.000000</td>\n",
       "      <td>96.0</td>\n",
       "    </tr>\n",
       "    <tr>\n",
       "      <th>Zimbabwe</th>\n",
       "      <td>1.0</td>\n",
       "      <td>44.0</td>\n",
       "      <td>44.000000</td>\n",
       "      <td>44.0</td>\n",
       "    </tr>\n",
       "  </tbody>\n",
       "</table>\n",
       "<p>85 rows × 4 columns</p>\n",
       "</div>"
      ],
      "text/plain": [
       "                              count    max        mean    min\n",
       "location                                                     \n",
       "Argentina                       3.0  104.0   56.000000    5.0\n",
       "Armenia                         2.0   95.0   82.500000   70.0\n",
       "Australia                      34.0  131.0   68.588235    8.0\n",
       "Austria                         2.0   87.0   74.500000   62.0\n",
       "Bahamas                         2.0   71.0   63.500000   56.0\n",
       "Bangladesh                      1.0   80.0   80.000000   80.0\n",
       "Barbados                        1.0   24.0   24.000000   24.0\n",
       "Belgique                        1.0   20.0   20.000000   20.0\n",
       "Belgium                         1.0   61.0   61.000000   61.0\n",
       "Bermuda                         2.0   33.0   22.500000   12.0\n",
       "Brasil                          2.0  101.0   58.000000   15.0\n",
       "Canada                        219.0  126.0   49.155251    7.0\n",
       "Colombia                        3.0   55.0   50.666667   46.0\n",
       "Costa Rica                      1.0   71.0   71.000000   71.0\n",
       "Cyprus                          1.0   16.0   16.000000   16.0\n",
       "Czech Republic                  1.0   67.0   67.000000   67.0\n",
       "Danmark                         1.0   54.0   54.000000   54.0\n",
       "Denmark                         5.0   74.0   47.200000   29.0\n",
       "Deutschland                     1.0   96.0   96.000000   96.0\n",
       "Egypt                           3.0   90.0   80.666667   68.0\n",
       "Estados Unidos                  3.0  100.0   76.000000   33.0\n",
       "Etats-Unis                      3.0  103.0   73.333333   51.0\n",
       "France                         10.0  102.0   60.500000   24.0\n",
       "Germany                         7.0   94.0   67.428571   37.0\n",
       "Ghana                           1.0   67.0   67.000000   67.0\n",
       "Hashemite Kingdom of Jordan     2.0   45.0   36.000000   27.0\n",
       "Hong Kong                       1.0   14.0   14.000000   14.0\n",
       "India                          33.0  114.0   68.484848   20.0\n",
       "Indonesia                       8.0  124.0   60.375000   12.0\n",
       "Ireland                        47.0  118.0   54.787234    9.0\n",
       "...                             ...    ...         ...    ...\n",
       "Portugal                        2.0   63.0   40.500000   18.0\n",
       "Qatar                           6.0   52.0   30.666667    8.0\n",
       "Reino Unido                     2.0  107.0   63.000000   19.0\n",
       "Republic of Korea               2.0  107.0   56.500000    6.0\n",
       "Republic of Mozambique          1.0  101.0  101.000000  101.0\n",
       "Republic of Serbia              1.0   47.0   47.000000   47.0\n",
       "Republic of Slovenia            1.0   34.0   34.000000   34.0\n",
       "Republic of the Philippines     8.0   88.0   56.250000    9.0\n",
       "Rwanda                          1.0   61.0   61.000000   61.0\n",
       "Seychelles                      1.0   34.0   34.000000   34.0\n",
       "Singapore                       2.0   81.0   79.500000   78.0\n",
       "Singapur                        1.0   19.0   19.000000   19.0\n",
       "South Africa                   14.0  132.0   61.071429    8.0\n",
       "Spain                           6.0   71.0   46.500000   10.0\n",
       "Sri Lanka                       1.0   68.0   68.000000   68.0\n",
       "Sverige                         1.0   25.0   25.000000   25.0\n",
       "Sweden                          1.0   15.0   15.000000   15.0\n",
       "Switzerland                     7.0  109.0   64.285714   45.0\n",
       "Tanzania                        1.0    8.0    8.000000    8.0\n",
       "Thailand                        3.0   97.0   80.333333   53.0\n",
       "The Netherlands                 6.0   80.0   51.500000   35.0\n",
       "Trinidad and Tobago             1.0   39.0   39.000000   39.0\n",
       "Turkey                          1.0   24.0   24.000000   24.0\n",
       "Uganda                          1.0   47.0   47.000000   47.0\n",
       "Ukraine                         3.0   76.0   62.000000   53.0\n",
       "United Arab Emirates            4.0   89.0   58.750000   24.0\n",
       "United Kingdom                224.0  132.0   64.281250    5.0\n",
       "United States                4300.0  140.0   60.733488    0.0\n",
       "Vereinigte Staaten              1.0   96.0   96.000000   96.0\n",
       "Zimbabwe                        1.0   44.0   44.000000   44.0\n",
       "\n",
       "[85 rows x 4 columns]"
      ]
     },
     "execution_count": 443,
     "metadata": {},
     "output_type": "execute_result"
    }
   ],
   "source": [
    "def get_stats(group):\n",
    "    return {'min': group.min(),\n",
    "            'max': group.max(),\n",
    "            'count': group.count(),\n",
    "            'mean': group.mean()}\n",
    "\n",
    "\n",
    "df1['num_characters'].groupby(df1['location']).apply(get_stats).unstack()"
   ]
  }
 ],
 "metadata": {
  "kernelspec": {
   "display_name": "Python 2",
   "language": "python",
   "name": "python2"
  },
  "language_info": {
   "codemirror_mode": {
    "name": "ipython",
    "version": 2
   },
   "file_extension": ".py",
   "mimetype": "text/x-python",
   "name": "python",
   "nbconvert_exporter": "python",
   "pygments_lexer": "ipython2",
   "version": "2.7.14"
  }
 },
 "nbformat": 4,
 "nbformat_minor": 2
}
